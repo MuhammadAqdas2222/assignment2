{
 "cells": [
  {
   "cell_type": "code",
   "execution_count": 8,
   "metadata": {},
   "outputs": [
    {
     "name": "stdout",
     "output_type": "stream",
     "text": [
      "How many numbers:5\n",
      "Enter number23\n",
      "Sum of elements in given list is : 23\n",
      "Enter number34\n",
      "Sum of elements in given list is : 57\n",
      "Enter number35\n",
      "Sum of elements in given list is : 92\n",
      "Enter number54\n",
      "Sum of elements in given list is : 146\n",
      "Enter number89\n",
      "Sum of elements in given list is : 235\n"
     ]
    }
   ],
   "source": [
    "lst = []\n",
    "num =int(input('How many numbers:'))\n",
    "for n in range(num):\n",
    "    numbers =int(input('Enter number'))\n",
    "    lst.append(numbers)\n",
    "    print(\"Sum of elements in given list is :\",sum (lst))"
   ]
  },
  {
   "cell_type": "code",
   "execution_count": 10,
   "metadata": {},
   "outputs": [
    {
     "name": "stdout",
     "output_type": "stream",
     "text": [
      "Enter number of elements in list:  6\n",
      "Enter elements:24\n",
      "Largest element is: 24\n",
      "Enter elements:78\n",
      "Largest element is: 78\n",
      "Enter elements:67\n",
      "Largest element is: 78\n",
      "Enter elements:99\n",
      "Largest element is: 99\n",
      "Enter elements:0\n",
      "Largest element is: 99\n",
      "Enter elements:100\n",
      "Largest element is: 100\n"
     ]
    }
   ],
   "source": [
    "list =[]\n",
    "number=int(input(\"Enter number of elements in list:  \"))\n",
    "for i in range(1,number +1):\n",
    "    ele = int(input(\"Enter elements:\"))\n",
    "    list.append(ele)\n",
    "    print(\"Largest element is:\",max(list))"
   ]
  },
  {
   "cell_type": "code",
   "execution_count": null,
   "metadata": {},
   "outputs": [],
   "source": []
  }
 ],
 "metadata": {
  "kernelspec": {
   "display_name": "Python 3",
   "language": "python",
   "name": "python3"
  },
  "language_info": {
   "codemirror_mode": {
    "name": "ipython",
    "version": 3
   },
   "file_extension": ".py",
   "mimetype": "text/x-python",
   "name": "python",
   "nbconvert_exporter": "python",
   "pygments_lexer": "ipython3",
   "version": "3.6.7"
  }
 },
 "nbformat": 4,
 "nbformat_minor": 2
}
