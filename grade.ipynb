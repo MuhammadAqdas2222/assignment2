{
 "cells": [
  {
   "cell_type": "code",
   "execution_count": 7,
   "metadata": {},
   "outputs": [
    {
     "name": "stdout",
     "output_type": "stream",
     "text": [
      "Enter marks of first subject :85\n",
      "Enter marks of second subject :87\n",
      "Enter marks of third subject :90\n",
      "Ennter marks of fourth subject :93\n",
      "Enter marks of fifth subject : 79\n",
      "Grade:B\n"
     ]
    }
   ],
   "source": [
    "sub1=int(input(\"Enter marks of first subject :\"))\n",
    "sub2=int(input(\"Enter marks of second subject :\"))\n",
    "sub3=int(input(\"Enter marks of third subject :\"))\n",
    "sub4=int(input(\"Ennter marks of fourth subject :\"))\n",
    "sub5=int(input(\"Enter marks of fifth subject : \"))\n",
    "avg=(sub1+sub2+sub3+sub4+sub5)/5\n",
    "if(avg>=90):\n",
    "    print(\"Grade: A\");\n",
    "elif(avg>=80):\n",
    "    print(\"Grade:B\")\n",
    "elif(avg>=70):\n",
    "    print(\"Grade:C\")\n",
    "elif(avg>=60):\n",
    "    print(\"Grade:D\")\n",
    "else:\n",
    "    print(\"Grade:F\")\n"
   ]
  },
  {
   "cell_type": "code",
   "execution_count": null,
   "metadata": {},
   "outputs": [],
   "source": []
  }
 ],
 "metadata": {
  "kernelspec": {
   "display_name": "Python 3",
   "language": "python",
   "name": "python3"
  },
  "language_info": {
   "codemirror_mode": {
    "name": "ipython",
    "version": 3
   },
   "file_extension": ".py",
   "mimetype": "text/x-python",
   "name": "python",
   "nbconvert_exporter": "python",
   "pygments_lexer": "ipython3",
   "version": "3.6.7"
  }
 },
 "nbformat": 4,
 "nbformat_minor": 2
}
