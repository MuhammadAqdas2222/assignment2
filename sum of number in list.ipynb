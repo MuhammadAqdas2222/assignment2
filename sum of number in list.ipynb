{
 "cells": [
  {
   "cell_type": "code",
   "execution_count": 8,
   "metadata": {},
   "outputs": [
    {
     "name": "stdout",
     "output_type": "stream",
     "text": [
      "How many numbers:5\n",
      "Enter number23\n",
      "Sum of elements in given list is : 23\n",
      "Enter number34\n",
      "Sum of elements in given list is : 57\n",
      "Enter number35\n",
      "Sum of elements in given list is : 92\n",
      "Enter number54\n",
      "Sum of elements in given list is : 146\n",
      "Enter number89\n",
      "Sum of elements in given list is : 235\n"
     ]
    }
   ],
   "source": [
    "lst = []\n",
    "num =int(input('How many numbers:'))\n",
    "for n in range(num):\n",
    "    numbers =int(input('Enter number'))\n",
    "    lst.append(numbers)\n",
    "    print(\"Sum of elements in given list is :\",sum (lst))"
   ]
  },
  {
   "cell_type": "code",
   "execution_count": null,
   "metadata": {},
   "outputs": [],
   "source": []
  }
 ],
 "metadata": {
  "kernelspec": {
   "display_name": "Python 3",
   "language": "python",
   "name": "python3"
  },
  "language_info": {
   "codemirror_mode": {
    "name": "ipython",
    "version": 3
   },
   "file_extension": ".py",
   "mimetype": "text/x-python",
   "name": "python",
   "nbconvert_exporter": "python",
   "pygments_lexer": "ipython3",
   "version": "3.6.7"
  }
 },
 "nbformat": 4,
 "nbformat_minor": 2
}
